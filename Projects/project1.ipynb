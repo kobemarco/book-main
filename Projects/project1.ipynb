{
 "cells": [
  {
   "cell_type": "markdown",
   "id": "94b9e5d5",
   "metadata": {},
   "source": [
    "# **Project Task 1**\n",
    "\n",
    "---\n",
    "\n",
    "<br>"
   ]
  }
 ],
 "metadata": {
  "language_info": {
   "name": "python"
  }
 },
 "nbformat": 4,
 "nbformat_minor": 5
}
