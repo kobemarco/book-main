{
 "cells": [
  {
   "cell_type": "markdown",
   "id": "e49f3513",
   "metadata": {},
   "source": [
    "# **Laboratory Task 1**\n",
    "\n",
    "---\n",
    "\n",
    "<br>\n",
    "\n",
    "**Example Scenario:**\n",
    "\n",
    "Dr. Jake is a medical doctor and the CEO of Astro JR, a giant pharmaceutical company in the Philippines. To support the production and use of Astro JR’s COVID-19 vaccine, this company has implemented a number of business intelligence and data analytics tools. Your task is to provide the appropriate and necessary analytical questions. Dr. Jake must ask his analytics team in order to provide better deployment and production of COVID-19 vaccines around the world using descriptive, diagnostic, predictive, and prescriptive analytics.\n",
    "\n",
    "**Descriptive:** How many vaccines have been sold this month? <br>\n",
    "**Diagnostic:** Aside from the demand, what other factors affect the sales of the vaccines? <br>\n",
    "**Predictive:** What will be the trend of sales next month? <br>\n",
    "**Prescriptive:** If demand rises next month, what will be the optimal number of vaccines the company should produce?\n",
    "\n",
    "**Descriptive:** How many people have been vaccinated? <br>\n",
    "**Diagnostic:** What factors influence a person to be vaccinated? <br>\n",
    "**Predictive:** Based on a person’s health data, what is the probability that he or she will be vaccinated? <br>\n",
    "**Prescriptive:** What awareness campaign should the company implement to increase people’s support for vaccination?"
   ]
  }
 ],
 "metadata": {
  "language_info": {
   "name": "python"
  }
 },
 "nbformat": 4,
 "nbformat_minor": 5
}
