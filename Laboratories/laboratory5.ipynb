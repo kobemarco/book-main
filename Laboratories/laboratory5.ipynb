{
  "cells": [
    {
      "cell_type": "markdown",
      "metadata": {
        "id": "njigogeemHR5"
      },
      "source": [
        "# Laboratory Task 5"
      ]
    },
    {
      "cell_type": "markdown",
      "metadata": {
        "id": "5FHwWTp3mOZL"
      },
      "source": [
        "1. Perform Standard Imports"
      ]
    },
    {
      "cell_type": "code",
      "execution_count": 13,
      "metadata": {
        "id": "eF_kf-Ajm2_C"
      },
      "outputs": [],
      "source": [
        "import numpy as np\n",
        "import pandas as pd\n",
        "import matplotlib.pyplot as plt\n",
        "import seaborn as sns\n",
        "import torch\n",
        "import sys"
      ]
    },
    {
      "cell_type": "markdown",
      "metadata": {
        "id": "LcU2OsRfmSI3"
      },
      "source": [
        "2. Create a function called set_seed() that accepts seed: int as a parameter, this function must return nothing but just set the seed to a certain value."
      ]
    },
    {
      "cell_type": "code",
      "execution_count": 14,
      "metadata": {
        "id": "WmLnQPXDnAB7"
      },
      "outputs": [],
      "source": [
        "def set_seed(seed: int):\n",
        "    np.random.seed(seed)\n",
        "    torch.manual_seed(seed)"
      ]
    },
    {
      "cell_type": "markdown",
      "metadata": {
        "id": "S_xQPNTHmSRw"
      },
      "source": [
        "3. Create a NumPy array called “arr” that contains 6 random integers between 0 (inclusive) and 5 (exclusive), call the set_seed() function and use 42 as the seed parameter."
      ]
    },
    {
      "cell_type": "code",
      "execution_count": 15,
      "metadata": {
        "id": "ZefJYTBdnQF0"
      },
      "outputs": [],
      "source": [
        "set_seed(42)\n",
        "arr = np.random.randint(0, 5, 6)"
      ]
    },
    {
      "cell_type": "markdown",
      "metadata": {
        "id": "76Aen1kImSY4"
      },
      "source": [
        "4. Create a tensor “x” from the array above"
      ]
    },
    {
      "cell_type": "code",
      "execution_count": 4,
      "metadata": {
        "colab": {
          "base_uri": "https://localhost:8080/"
        },
        "id": "wGEf2tGGnS0t",
        "outputId": "d5a1c84e-fb46-4e6f-8ad0-8a3df2091f5c"
      },
      "outputs": [
        {
          "data": {
            "text/plain": [
              "tensor([2, 4, 1, 2, 0, 1])"
            ]
          },
          "execution_count": 4,
          "metadata": {},
          "output_type": "execute_result"
        }
      ],
      "source": [
        "x = torch.tensor(arr)\n",
        "x"
      ]
    },
    {
      "cell_type": "markdown",
      "metadata": {
        "id": "azCIXVjImSeW"
      },
      "source": [
        "5. Change the dtype of x from int32 to int64"
      ]
    },
    {
      "cell_type": "code",
      "execution_count": 5,
      "metadata": {
        "colab": {
          "base_uri": "https://localhost:8080/"
        },
        "id": "hQMflRi_nZfY",
        "outputId": "6a9248ed-b651-4663-c61d-f2a13c4efde1"
      },
      "outputs": [
        {
          "data": {
            "text/plain": [
              "torch.int64"
            ]
          },
          "execution_count": 5,
          "metadata": {},
          "output_type": "execute_result"
        }
      ],
      "source": [
        "x = x.type(torch.int64)\n",
        "x.dtype"
      ]
    },
    {
      "cell_type": "markdown",
      "metadata": {
        "id": "27_SxzRFmSi-"
      },
      "source": [
        "6. Reshape x into a 3x2 tensor"
      ]
    },
    {
      "cell_type": "code",
      "execution_count": 6,
      "metadata": {
        "colab": {
          "base_uri": "https://localhost:8080/"
        },
        "id": "pFmOf3hlneSL",
        "outputId": "1a65ddb9-dc3a-41ba-f5cd-164de5452830"
      },
      "outputs": [
        {
          "data": {
            "text/plain": [
              "tensor([[2, 4],\n",
              "        [1, 2],\n",
              "        [0, 1]])"
            ]
          },
          "execution_count": 6,
          "metadata": {},
          "output_type": "execute_result"
        }
      ],
      "source": [
        "x = x.reshape(3, 2)\n",
        "x"
      ]
    },
    {
      "cell_type": "markdown",
      "metadata": {
        "id": "2_ynH4akmSmg"
      },
      "source": [
        "7. Return the right-hand column of tensor x"
      ]
    },
    {
      "cell_type": "code",
      "execution_count": 16,
      "metadata": {
        "colab": {
          "base_uri": "https://localhost:8080/"
        },
        "id": "08LXUyyXnjXZ",
        "outputId": "e12a7dbd-a426-45b7-9fa0-7803662d1379"
      },
      "outputs": [
        {
          "data": {
            "text/plain": [
              "tensor([[4],\n",
              "        [2],\n",
              "        [1]])"
            ]
          },
          "execution_count": 16,
          "metadata": {},
          "output_type": "execute_result"
        }
      ],
      "source": [
        "rhc = x[:, 1:]\n",
        "rhc"
      ]
    },
    {
      "cell_type": "markdown",
      "metadata": {
        "id": "-67rSrezmSrn"
      },
      "source": [
        "8. Without changing x, return a tensor of square values of x"
      ]
    },
    {
      "cell_type": "code",
      "execution_count": 8,
      "metadata": {
        "colab": {
          "base_uri": "https://localhost:8080/"
        },
        "id": "bKqqC2lZnqqE",
        "outputId": "f253e6be-152e-4f3f-ef4a-ced28e7d0fb3"
      },
      "outputs": [
        {
          "data": {
            "text/plain": [
              "tensor([[ 4, 16],\n",
              "        [ 1,  4],\n",
              "        [ 0,  1]])"
            ]
          },
          "execution_count": 8,
          "metadata": {},
          "output_type": "execute_result"
        }
      ],
      "source": [
        "x_squared = x ** 2\n",
        "x_squared"
      ]
    },
    {
      "cell_type": "markdown",
      "metadata": {
        "id": "-WArxvI7mSv4"
      },
      "source": [
        "9. Create a tensor y with the same number of elements as x, that can be matrix-multiplied with x"
      ]
    },
    {
      "cell_type": "code",
      "execution_count": 9,
      "metadata": {
        "colab": {
          "base_uri": "https://localhost:8080/"
        },
        "id": "tDWFMoJRnzlR",
        "outputId": "4ad74e53-4588-44cd-d912-57bcd50e2f6c"
      },
      "outputs": [
        {
          "data": {
            "text/plain": [
              "tensor([[2, 2, 1],\n",
              "        [4, 1, 0]])"
            ]
          },
          "execution_count": 9,
          "metadata": {},
          "output_type": "execute_result"
        }
      ],
      "source": [
        "y = torch.randint(0, 5, (2, 3))\n",
        "y"
      ]
    },
    {
      "cell_type": "markdown",
      "metadata": {
        "id": "U7JDCFpnmSzP"
      },
      "source": [
        "10. Find the matrix product of x and y."
      ]
    },
    {
      "cell_type": "code",
      "execution_count": 12,
      "metadata": {
        "colab": {
          "base_uri": "https://localhost:8080/"
        },
        "id": "0wPoCy2ipIut",
        "outputId": "5908f533-4d96-4b1f-ea67-e9f53a03613e"
      },
      "outputs": [
        {
          "name": "stdout",
          "output_type": "stream",
          "text": [
            "tensor([[20,  8,  2],\n",
            "        [10,  4,  1],\n",
            "        [ 4,  1,  0]])\n"
          ]
        }
      ],
      "source": [
        "matrix_product = torch.matmul(x, y)\n",
        "print(matrix_product)"
      ]
    }
  ],
  "metadata": {
    "colab": {
      "provenance": []
    },
    "kernelspec": {
      "display_name": "Python 3",
      "name": "python3"
    },
    "language_info": {
      "name": "python"
    }
  },
  "nbformat": 4,
  "nbformat_minor": 0
}
