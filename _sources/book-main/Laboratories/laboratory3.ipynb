{
  "nbformat": 4,
  "nbformat_minor": 0,
  "metadata": {
    "colab": {
      "provenance": []
    },
    "kernelspec": {
      "name": "python3",
      "display_name": "Python 3"
    },
    "language_info": {
      "name": "python"
    }
  },
  "cells": [
    {
      "cell_type": "markdown",
      "source": [
        "**Laboratory Task 3**\n",
        "\n",
        "**Instruction:** Perform a forward and backward propagation in python using the inputs from Laboratory Task 2."
      ],
      "metadata": {
        "id": "9zpUHZpbYpn7"
      }
    },
    {
      "cell_type": "markdown",
      "source": [
        "**Import Library**"
      ],
      "metadata": {
        "id": "E5gT6R_hX1sb"
      }
    },
    {
      "cell_type": "code",
      "source": [
        "import numpy as np"
      ],
      "metadata": {
        "id": "g7TDNPizTX_x"
      },
      "execution_count": 3,
      "outputs": []
    },
    {
      "cell_type": "markdown",
      "source": [
        "**Inititalize network parameters and inputs**"
      ],
      "metadata": {
        "id": "4tqf3aXHYJZt"
      }
    },
    {
      "cell_type": "code",
      "source": [
        "x = np.array([1,0,1]).reshape(3,1)\n",
        "y = np.array([1]).reshape(1,1)\n",
        "lr = 0.001\n",
        "\n",
        "hwu = np.array([[0.2,-0.3], [0.4, 0.1], [-0.5, 0.2]])\n",
        "hwub = np.array([[-0.4], [0.2]])\n",
        "ouw = np.array([[-0.3, -0.2]])\n",
        "owub = np.array([[0.1]])"
      ],
      "metadata": {
        "id": "WqC4gDAyXy3K"
      },
      "execution_count": 4,
      "outputs": []
    },
    {
      "cell_type": "markdown",
      "source": [
        "**Forward Pass**"
      ],
      "metadata": {
        "id": "E23uu2dbYODa"
      }
    },
    {
      "cell_type": "code",
      "source": [
        "# Define the ReLU activation function and derivative\n",
        "def relu(z):\n",
        "    return np.maximum(0, z)\n",
        "\n",
        "def relu_derivative(z):\n",
        "    return (z > 0).astype(float)\n",
        "\n",
        "# Calculate weighted sum for hidden layer\n",
        "wsh = np.dot(hwu.T, x) + hwub\n",
        "hidden = relu(wsh)\n",
        "\n",
        "# Calculate weighted sum for output layer\n",
        "wso = np.dot(owu, hidden) + owub\n",
        "pred_output = wso # No activation function on the output, as per the manual calculation\n",
        "\n",
        "# Calculate the error (MSE is commonly used, but for simplicity here we use the difference)\n",
        "error = pred_output - y\n",
        "print(f\"Predicted Output: {pred_output[0][0]:.4f}\")\n",
        "print(f\"Error: {error[0][0]:.4f}\")"
      ],
      "metadata": {
        "colab": {
          "base_uri": "https://localhost:8080/"
        },
        "id": "AnUjXE0rYMbK",
        "outputId": "bb12b272-f4c1-433b-80b7-3ad26acf41b9"
      },
      "execution_count": 5,
      "outputs": [
        {
          "output_type": "stream",
          "name": "stdout",
          "text": [
            "Predicted Output: 0.0800\n",
            "Error: -0.9200\n"
          ]
        }
      ]
    },
    {
      "cell_type": "markdown",
      "source": [
        "**Backward Propagation**"
      ],
      "metadata": {
        "id": "p3v73FE3YUxs"
      }
    },
    {
      "cell_type": "code",
      "source": [
        "# Calculate gradients for the output layer\n",
        "delta_o = error # The derivative of the loss with respect to the output is (y_hat - y)\n",
        "d_Wo = np.dot(delta_o, hidden.T)\n",
        "d_bo = delta_o\n",
        "\n",
        "# Calculate gradients for the hidden layer\n",
        "delta_h = np.dot(owu.T, delta_o) * relu_derivative(wsh)\n",
        "d_Wh = np.dot(x, delta_h.T)\n",
        "d_bh = delta_h\n",
        "\n",
        "owu -= lr * d_Wo\n",
        "owub -= lr * d_bo\n",
        "hwu -= lr * d_Wh\n",
        "hwub -= lr * d_bh\n",
        "\n",
        "print(\"\\n--- After one step of training ---\")\n",
        "print(f\"Updated Hidden Weights (W_h):\\n{hwu}\")\n",
        "print(f\"\\nUpdated Hidden Biases (b_h):\\n{hwub}\")\n",
        "print(f\"\\nUpdated Output Weights (W_o):\\n{owu}\")\n",
        "print(f\"\\nUpdated Output Bias (b_o):\\n{owub}\")"
      ],
      "metadata": {
        "colab": {
          "base_uri": "https://localhost:8080/"
        },
        "id": "IwLebrf4YSDB",
        "outputId": "76add041-b856-4a79-a8c9-e33b5ebf533c"
      },
      "execution_count": 6,
      "outputs": [
        {
          "output_type": "stream",
          "name": "stdout",
          "text": [
            "\n",
            "--- After one step of training ---\n",
            "Updated Hidden Weights (W_h):\n",
            "[[ 0.2      -0.300184]\n",
            " [ 0.4       0.1     ]\n",
            " [-0.5       0.199816]]\n",
            "\n",
            "Updated Hidden Biases (b_h):\n",
            "[[-0.4     ]\n",
            " [ 0.199816]]\n",
            "\n",
            "Updated Output Weights (W_o):\n",
            "[[-0.3      -0.199908]]\n",
            "\n",
            "Updated Output Bias (b_o):\n",
            "[[0.10092]]\n"
          ]
        }
      ]
    }
  ]
}