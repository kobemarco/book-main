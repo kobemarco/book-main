{
  "nbformat": 4,
  "nbformat_minor": 0,
  "metadata": {
    "colab": {
      "provenance": []
    },
    "kernelspec": {
      "name": "python3",
      "display_name": "Python 3"
    },
    "language_info": {
      "name": "python"
    }
  },
  "cells": [
    {
      "cell_type": "markdown",
      "source": [
        "**Laboratory Task 5**"
      ],
      "metadata": {
        "id": "njigogeemHR5"
      }
    },
    {
      "cell_type": "markdown",
      "source": [
        "1. Perform Standard Imports"
      ],
      "metadata": {
        "id": "5FHwWTp3mOZL"
      }
    },
    {
      "cell_type": "code",
      "source": [
        "import numpy as np\n",
        "import pandas as pd\n",
        "import matplotlib.pyplot as plt\n",
        "import seaborn as sns\n",
        "import torch\n",
        "import sys"
      ],
      "metadata": {
        "id": "eF_kf-Ajm2_C"
      },
      "execution_count": 13,
      "outputs": []
    },
    {
      "cell_type": "markdown",
      "source": [
        "2. Create a function called set_seed() that accepts seed: int as a parameter, this function must return nothing but just set the seed to a certain value."
      ],
      "metadata": {
        "id": "LcU2OsRfmSI3"
      }
    },
    {
      "cell_type": "code",
      "source": [
        "def set_seed(seed: int):\n",
        "    np.random.seed(seed)\n",
        "    torch.manual_seed(seed)"
      ],
      "metadata": {
        "id": "WmLnQPXDnAB7"
      },
      "execution_count": 14,
      "outputs": []
    },
    {
      "cell_type": "markdown",
      "source": [
        "3. Create a NumPy array called “arr” that contains 6 random integers between 0 (inclusive) and 5 (exclusive), call the set_seed() function and use 42 as the seed parameter."
      ],
      "metadata": {
        "id": "S_xQPNTHmSRw"
      }
    },
    {
      "cell_type": "code",
      "source": [
        "set_seed(42)\n",
        "arr = np.random.randint(0, 5, 6)"
      ],
      "metadata": {
        "id": "ZefJYTBdnQF0"
      },
      "execution_count": 15,
      "outputs": []
    },
    {
      "cell_type": "markdown",
      "source": [
        "4. Create a tensor “x” from the array above"
      ],
      "metadata": {
        "id": "76Aen1kImSY4"
      }
    },
    {
      "cell_type": "code",
      "source": [
        "x = torch.tensor(arr)\n",
        "x"
      ],
      "metadata": {
        "colab": {
          "base_uri": "https://localhost:8080/"
        },
        "id": "wGEf2tGGnS0t",
        "outputId": "d5a1c84e-fb46-4e6f-8ad0-8a3df2091f5c"
      },
      "execution_count": 4,
      "outputs": [
        {
          "output_type": "execute_result",
          "data": {
            "text/plain": [
              "tensor([2, 4, 1, 2, 0, 1])"
            ]
          },
          "metadata": {},
          "execution_count": 4
        }
      ]
    },
    {
      "cell_type": "markdown",
      "source": [
        "5. Change the dtype of x from int32 to int64"
      ],
      "metadata": {
        "id": "azCIXVjImSeW"
      }
    },
    {
      "cell_type": "code",
      "source": [
        "x = x.type(torch.int64)\n",
        "x.dtype"
      ],
      "metadata": {
        "colab": {
          "base_uri": "https://localhost:8080/"
        },
        "id": "hQMflRi_nZfY",
        "outputId": "6a9248ed-b651-4663-c61d-f2a13c4efde1"
      },
      "execution_count": 5,
      "outputs": [
        {
          "output_type": "execute_result",
          "data": {
            "text/plain": [
              "torch.int64"
            ]
          },
          "metadata": {},
          "execution_count": 5
        }
      ]
    },
    {
      "cell_type": "markdown",
      "source": [
        "6. Reshape x into a 3x2 tensor"
      ],
      "metadata": {
        "id": "27_SxzRFmSi-"
      }
    },
    {
      "cell_type": "code",
      "source": [
        "x = x.reshape(3, 2)\n",
        "x"
      ],
      "metadata": {
        "colab": {
          "base_uri": "https://localhost:8080/"
        },
        "id": "pFmOf3hlneSL",
        "outputId": "1a65ddb9-dc3a-41ba-f5cd-164de5452830"
      },
      "execution_count": 6,
      "outputs": [
        {
          "output_type": "execute_result",
          "data": {
            "text/plain": [
              "tensor([[2, 4],\n",
              "        [1, 2],\n",
              "        [0, 1]])"
            ]
          },
          "metadata": {},
          "execution_count": 6
        }
      ]
    },
    {
      "cell_type": "markdown",
      "source": [
        "7. Return the right-hand column of tensor x"
      ],
      "metadata": {
        "id": "2_ynH4akmSmg"
      }
    },
    {
      "cell_type": "code",
      "source": [
        "rhc = x[:, 1:]\n",
        "rhc"
      ],
      "metadata": {
        "colab": {
          "base_uri": "https://localhost:8080/"
        },
        "id": "08LXUyyXnjXZ",
        "outputId": "e12a7dbd-a426-45b7-9fa0-7803662d1379"
      },
      "execution_count": 16,
      "outputs": [
        {
          "output_type": "execute_result",
          "data": {
            "text/plain": [
              "tensor([[4],\n",
              "        [2],\n",
              "        [1]])"
            ]
          },
          "metadata": {},
          "execution_count": 16
        }
      ]
    },
    {
      "cell_type": "markdown",
      "source": [
        "8. Without changing x, return a tensor of square values of x"
      ],
      "metadata": {
        "id": "-67rSrezmSrn"
      }
    },
    {
      "cell_type": "code",
      "source": [
        "x_squared = x ** 2\n",
        "x_squared"
      ],
      "metadata": {
        "colab": {
          "base_uri": "https://localhost:8080/"
        },
        "id": "bKqqC2lZnqqE",
        "outputId": "f253e6be-152e-4f3f-ef4a-ced28e7d0fb3"
      },
      "execution_count": 8,
      "outputs": [
        {
          "output_type": "execute_result",
          "data": {
            "text/plain": [
              "tensor([[ 4, 16],\n",
              "        [ 1,  4],\n",
              "        [ 0,  1]])"
            ]
          },
          "metadata": {},
          "execution_count": 8
        }
      ]
    },
    {
      "cell_type": "markdown",
      "source": [
        "9. Create a tensor y with the same number of elements as x, that can be matrix-multiplied with x"
      ],
      "metadata": {
        "id": "-WArxvI7mSv4"
      }
    },
    {
      "cell_type": "code",
      "source": [
        "y = torch.randint(0, 5, (2, 3))\n",
        "y"
      ],
      "metadata": {
        "colab": {
          "base_uri": "https://localhost:8080/"
        },
        "id": "tDWFMoJRnzlR",
        "outputId": "4ad74e53-4588-44cd-d912-57bcd50e2f6c"
      },
      "execution_count": 9,
      "outputs": [
        {
          "output_type": "execute_result",
          "data": {
            "text/plain": [
              "tensor([[2, 2, 1],\n",
              "        [4, 1, 0]])"
            ]
          },
          "metadata": {},
          "execution_count": 9
        }
      ]
    },
    {
      "cell_type": "markdown",
      "source": [
        "10. Find the matrix product of x and y."
      ],
      "metadata": {
        "id": "U7JDCFpnmSzP"
      }
    },
    {
      "cell_type": "code",
      "source": [
        "matrix_product = torch.matmul(x, y)\n",
        "print(matrix_product)"
      ],
      "metadata": {
        "colab": {
          "base_uri": "https://localhost:8080/"
        },
        "id": "0wPoCy2ipIut",
        "outputId": "5908f533-4d96-4b1f-ea67-e9f53a03613e"
      },
      "execution_count": 12,
      "outputs": [
        {
          "output_type": "stream",
          "name": "stdout",
          "text": [
            "tensor([[20,  8,  2],\n",
            "        [10,  4,  1],\n",
            "        [ 4,  1,  0]])\n"
          ]
        }
      ]
    }
  ]
}