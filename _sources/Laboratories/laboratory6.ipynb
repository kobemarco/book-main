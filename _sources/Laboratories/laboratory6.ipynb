{
 "cells": [
  {
   "cell_type": "markdown",
   "id": "06044977",
   "metadata": {},
   "source": [
    "# Laboratory Task 6"
   ]
  },
  {
   "cell_type": "markdown",
   "id": "d75da566",
   "metadata": {},
   "source": [
    "**Import Libraries**"
   ]
  },
  {
   "cell_type": "code",
   "execution_count": 5,
   "id": "ccda6173",
   "metadata": {},
   "outputs": [],
   "source": [
    "import torch\n",
    "import torch.nn as nn\n",
    "import torch.nn.functional as F"
   ]
  },
  {
   "cell_type": "markdown",
   "id": "bc81fd2d",
   "metadata": {},
   "source": [
    "**CNN Implementation**"
   ]
  },
  {
   "cell_type": "code",
   "execution_count": 2,
   "id": "569e5fb6",
   "metadata": {},
   "outputs": [],
   "source": [
    "class CustomCNN(nn.Module):\n",
    "    def __init__(self):\n",
    "        super(CustomCNN, self).__init__()\n",
    "\n",
    "        # Convolutional Block 1\n",
    "        self.conv1 = nn.Conv2d(in_channels=1, out_channels=32, kernel_size=3, stride=1, padding=1)  # → (32, 28, 28)\n",
    "        self.pool1 = nn.MaxPool2d(kernel_size=2, stride=2, padding=1)  # → (32, 15, 15)\n",
    "\n",
    "        # Convolutional Block 2-4\n",
    "        self.conv2 = nn.Conv2d(in_channels=32, out_channels=64, kernel_size=3, stride=1, padding=1)  # → (64, 15, 15)\n",
    "        self.conv3 = nn.Conv2d(in_channels=64, out_channels=128, kernel_size=3, stride=1, padding=1)  # → (128, 15, 15)\n",
    "        self.conv4 = nn.Conv2d(in_channels=128, out_channels=256, kernel_size=3, stride=1, padding=1)  # → (256, 15, 15)\n",
    "        self.pool2 = nn.MaxPool2d(kernel_size=2, stride=2, padding=0)  # → (256, 7, 7)\n",
    "\n",
    "        # Dropout\n",
    "        self.dropout = nn.Dropout(p=0.2)\n",
    "\n",
    "        # Fully Connected Layers\n",
    "        self.fc1 = nn.Linear(in_features=256 * 7 * 7, out_features=1000)\n",
    "        self.fc2 = nn.Linear(in_features=1000, out_features=500)\n",
    "        self.fc3 = nn.Linear(in_features=500, out_features=10)  # Assuming 10 classes for MNIST\n",
    "\n",
    "    def forward(self, x):\n",
    "        # Conv Block 1\n",
    "        x = F.relu(self.conv1(x))  # → (32, 28, 28)\n",
    "        x = self.pool1(x)          # → (32, 15, 15)\n",
    "\n",
    "        # Conv Blocks 2-4\n",
    "        x = F.relu(self.conv2(x))  # → (64, 15, 15)\n",
    "        x = F.relu(self.conv3(x))  # → (128, 15, 15)\n",
    "        x = F.relu(self.conv4(x))  # → (256, 15, 15)\n",
    "        x = self.pool2(x)          # → (256, 7, 7)\n",
    "\n",
    "        # Dropout and Flatten\n",
    "        x = self.dropout(x)\n",
    "        x = x.view(x.size(0), -1)  # Flatten → (batch, 256*7*7)\n",
    "\n",
    "        # Fully Connected Layers\n",
    "        x = F.relu(self.fc1(x))    # → (1000)\n",
    "        x = F.relu(self.fc2(x))    # → (500)\n",
    "        x = self.fc3(x)            # → (10)\n",
    "\n",
    "        return x"
   ]
  },
  {
   "cell_type": "markdown",
   "id": "05bc2b7f",
   "metadata": {},
   "source": [
    "**Test the Model with Dummy Input**"
   ]
  },
  {
   "cell_type": "code",
   "execution_count": 3,
   "id": "9ac418a1",
   "metadata": {},
   "outputs": [
    {
     "name": "stdout",
     "output_type": "stream",
     "text": [
      "Output shape: torch.Size([1, 10])\n"
     ]
    }
   ],
   "source": [
    "# Create model\n",
    "model = CustomCNN()\n",
    "\n",
    "# Simulate batch of 1 image: (batch_size, channels, height, width)\n",
    "x = torch.randn(1, 1, 28, 28)\n",
    "\n",
    "# Forward pass\n",
    "output = model(x)\n",
    "print(\"Output shape:\", output.shape)  # Expected: torch.Size([1, 10])\n"
   ]
  }
 ],
 "metadata": {
  "kernelspec": {
   "display_name": "Python 3",
   "language": "python",
   "name": "python3"
  },
  "language_info": {
   "codemirror_mode": {
    "name": "ipython",
    "version": 3
   },
   "file_extension": ".py",
   "mimetype": "text/x-python",
   "name": "python",
   "nbconvert_exporter": "python",
   "pygments_lexer": "ipython3",
   "version": "3.12.1"
  }
 },
 "nbformat": 4,
 "nbformat_minor": 5
}
